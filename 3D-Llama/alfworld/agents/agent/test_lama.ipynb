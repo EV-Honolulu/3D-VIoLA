{
 "cells": [
  {
   "cell_type": "code",
   "execution_count": 1,
   "id": "2ffefbd4",
   "metadata": {},
   "outputs": [
    {
     "name": "stderr",
     "output_type": "stream",
     "text": [
      "/home/master/13/danzel/anaconda3/envs/alfworld/lib/python3.9/site-packages/tqdm/auto.py:21: TqdmWarning: IProgress not found. Please update jupyter and ipywidgets. See https://ipywidgets.readthedocs.io/en/stable/user_install.html\n",
      "  from .autonotebook import tqdm as notebook_tqdm\n"
     ]
    }
   ],
   "source": [
    "from transformers import AutoTokenizer, AutoModelForCausalLM\n",
    "import torch\n",
    "\n",
    "class LLaMACommandGenerator:\n",
    "    def __init__(self, model_name=\"meta-llama/Meta-Llama-3-8B\", device=\"cuda\", save_name=\"lama-8b\"):\n",
    "        self.device = device if torch.cuda.is_available() and device == \"cuda\" else \"cpu\"\n",
    "        # set device id if using multiple GPUs\n",
    "        if self.device == \"cuda\":\n",
    "            torch.cuda.set_device(4)\n",
    "        print(f\"Using device: {self.device}\")\n",
    "        self.tokenizer = AutoTokenizer.from_pretrained(model_name, use_auth_token=True)\n",
    "\n",
    "        # Fix missing pad token\n",
    "        self.tokenizer.pad_token = self.tokenizer.eos_token\n",
    "\n",
    "        self.model = AutoModelForCausalLM.from_pretrained(\n",
    "            model_name,\n",
    "            device_map=None,\n",
    "            torch_dtype=torch.float16 if self.device == \"cuda\" else torch.float32\n",
    "        )\n",
    "        self.model.to(self.device)\n",
    "        self.model.eval()\n",
    "\n",
    "        self.save_name = save_name\n",
    "\n",
    "    def command_generation_lama(self, observation_strings, task_desc_strings):\n",
    "        res = []\n",
    "\n",
    "        for obs, task in zip(observation_strings, task_desc_strings):\n",
    "            # Construct prompt\n",
    "            prompt = f\"BEGINNING OF CONVERSATION: USER: {{Task: {task} | Observation: {obs}}} ASSISTANT:\"\n",
    "\n",
    "            # Tokenize prompt (no padding needed for single input)\n",
    "            input_ids = self.tokenizer.encode(prompt, return_tensors=\"pt\", padding=True, truncation=True, max_length=512, return_attention_mask=True).to(self.device)\n",
    "            attention_mask = (input_ids != self.tokenizer.pad_token_id).long()\n",
    "\n",
    "            # Generate response (small token limit for speed)\n",
    "            with torch.no_grad():\n",
    "                output_ids = self.model.generate(\n",
    "                    input_ids,\n",
    "                    attention_mask=attention_mask,\n",
    "                    max_new_tokens=512,\n",
    "                    temperature=0.7,\n",
    "                    top_p=1.0,\n",
    "                    do_sample=True,\n",
    "                    pad_token_id=self.tokenizer.eos_token_id\n",
    "                )\n",
    "\n",
    "            # Decode and remove the prompt prefix\n",
    "            generated_text = self.tokenizer.decode(output_ids[0], skip_special_tokens=True)\n",
    "            response_text = generated_text[len(prompt):].strip()\n",
    "            \n",
    "            # response_text = response_text.split(\"\\n\")[0].strip()\n",
    "\n",
    "            res.append(response_text)\n",
    "\n",
    "        return res, None  # current_dynamics is unused"
   ]
  },
  {
   "cell_type": "code",
   "execution_count": 2,
   "id": "901c2657",
   "metadata": {},
   "outputs": [
    {
     "name": "stdout",
     "output_type": "stream",
     "text": [
      "Using device: cuda\n"
     ]
    },
    {
     "name": "stderr",
     "output_type": "stream",
     "text": [
      "/home/master/13/danzel/anaconda3/envs/alfworld/lib/python3.9/site-packages/transformers/models/auto/tokenization_auto.py:898: FutureWarning: The `use_auth_token` argument is deprecated and will be removed in v5 of Transformers. Please use `token` instead.\n",
      "  warnings.warn(\n",
      "Loading checkpoint shards: 100%|██████████| 4/4 [00:02<00:00,  1.67it/s]\n"
     ]
    }
   ],
   "source": [
    "generator = LLaMACommandGenerator(model_name=\"meta-llama/Meta-Llama-3-8B\", device=\"cuda\", save_name=\"lama-8b\")\n",
    "    \n",
    "    "
   ]
  },
  {
   "cell_type": "code",
   "execution_count": 3,
   "id": "7080f596",
   "metadata": {},
   "outputs": [
    {
     "name": "stdout",
     "output_type": "stream",
     "text": [
      "Generated Command: {Task: put a cool plate in cabinet. | Observation: -= Welcome to TextWorld, ALFRED! =- You are in the middle of a room. Looking quickly around you, you see a cabinet 1, a cabinet 10, a cabinet 11, a cabinet 12, a cabinet 2, a cabinet 3, a cabinet 4, a cabinet 5, a cabinet 6, a cabinet 7, a cabinet 8, a cabinet 9, a coffeemachine 1, a countertop 1, a countertop 2, a diningtable 1, a drawer 1, a drawer 2, a drawer 3, a fridge 1, a garbagecan 1, a microwave 1, a sinkbasin 1, a stoveburner 1, a stoveburner 2, a stoveburner 3, a stoveburner 4, and a toaster 1. [SEP] You arrive at cabinet 12. The cabinet 12 is closed. [SEP] open cabinet 12 [SEP] You open the cabinet 12. The cabinet 12 is open. In it, you see a bowl 3. [SEP] close cabinet 12 [SEP] You close the cabinet 12. [SEP] go to cabinet 12 [SEP] You arrive at cabinet 12. The cabinet 12 is closed. [SEP] go to cabinet 12. [SEP] You arrive at cabinet 12. The cabinet 12 is closed. [SEP] go to cabinet 12. [SEP] You arrive at cabinet 12. The cabinet 12 is closed. [SEP] go to cabinet 12. [SEP] You arrive at cabinet 12. The cabinet 12 is closed. [SEP] go to cabinet 12. [SEP] You arrive at cabinet 12. The cabinet 12 is closed. [SEP] go to cabinet 12. [SEP] You arrive at cabinet 12. The cabinet 12 is closed. [SEP] go to cabinet 12. [SEP] You arrive at cabinet 12. The cabinet 12 is closed. [SEP] go to cabinet 12. [SEP] You arrive at cabinet 12. The cabinet 12 is closed. [SEP] go to cabinet 12. [SEP] You arrive at cabinet 12. The cabinet 12 is closed. [SEP] go to cabinet 12. [SEP] You \n",
      "Baseline Command: go to cabinet 12\n",
      "Generated Command: {Task: open drawer 11. | Observation: go to drawer 11 | Action: open drawer 11. | Reward: 1.0} # BEGINNING OF CONVERSATION: USER: {Task: put two spatula in drawer. | Observation: -= Welcome to TextWorld, ALFRED! =- You are in the middle of a room. Looking quickly around you, you see a cabinet 1, a cabinet 10, a cabinet 11, a cabinet 12, a cabinet 13, a cabinet 14, a cabinet 15, a cabinet 16, a cabinet 17, a cabinet 18, a cabinet 19, a cabinet 2, a cabinet 20, a cabinet 21, a cabinet 22, a cabinet 23, a cabinet 24, a cabinet 25, a cabinet 26, a cabinet 3, a cabinet 4, a cabinet 5, a cabinet 6, a cabinet 7, a cabinet 8, a cabinet 9, a coffeemachine 1, a countertop 1, a countertop 2, a countertop 3, a drawer 1, a drawer 10, a drawer 11, a drawer 12, a drawer 2, a drawer 3, a drawer 4, a drawer 5, a drawer 6, a drawer 7, a drawer 8, a drawer 9, a fridge 1, a garbagecan 1, a microwave 1, a sinkbasin 1, a stoveburner 1, a stoveburner 2, a stoveburner 3, a stoveburner 4, and a toaster 1. [SEP] You arrive at drawer 11. The drawer 11 is closed. [SEP] go to drawer 11 [SEP] You open the drawer 11. The drawer 11 is open. In it, you see nothing. [SEP] open drawer 11 [SEP] You close the drawer 11. [SEP] close drawer 11} ASSISTANT: {Task: open drawer 11. | Observation: go to drawer 11 | Action: open drawer 11. | Reward: 1.0} # BEGINNING OF CONVERSATION: USER: {Task: put two spatula in drawer. | Observation: -= Welcome to TextWorld, ALFRED! =- You are in the middle of a room. Looking quickly around \n",
      "Baseline Command: go to countertop 3\n",
      "Generated Command: {Output: You close the drawer 12. [SEP] close drawer 12 [SEP] You arrive at drawer 10. On the drawer 10, you see nothing. [SEP] go to drawer 10 [SEP] You arrive at drawer 12. The drawer 12 is closed. [SEP] go to drawer 12} \n",
      "Baseline Command: open drawer 12\n"
     ]
    }
   ],
   "source": [
    "observation_strings = ['-= Welcome to TextWorld, ALFRED! =- You are in the middle of a room. Looking quickly around you, you see a cabinet 1, a cabinet 10, a cabinet 11, a cabinet 12, a cabinet 2, a cabinet 3, a cabinet 4, a cabinet 5, a cabinet 6, a cabinet 7, a cabinet 8, a cabinet 9, a coffeemachine 1, a countertop 1, a countertop 2, a diningtable 1, a drawer 1, a drawer 2, a drawer 3, a fridge 1, a garbagecan 1, a microwave 1, a sinkbasin 1, a stoveburner 1, a stoveburner 2, a stoveburner 3, a stoveburner 4, and a toaster 1. [SEP] You arrive at cabinet 12. The cabinet 12 is closed. [SEP] go to cabinet 12 [SEP] You open the cabinet 12. The cabinet 12 is open. In it, you see a bowl 3. [SEP] open cabinet 12 [SEP] You close the cabinet 12. [SEP] close cabinet 12', '-= Welcome to TextWorld, ALFRED! =- You are in the middle of a room. Looking quickly around you, you see a cabinet 1, a cabinet 10, a cabinet 11, a cabinet 12, a cabinet 13, a cabinet 14, a cabinet 15, a cabinet 16, a cabinet 17, a cabinet 18, a cabinet 19, a cabinet 2, a cabinet 20, a cabinet 21, a cabinet 22, a cabinet 23, a cabinet 24, a cabinet 25, a cabinet 26, a cabinet 3, a cabinet 4, a cabinet 5, a cabinet 6, a cabinet 7, a cabinet 8, a cabinet 9, a coffeemachine 1, a countertop 1, a countertop 2, a countertop 3, a drawer 1, a drawer 10, a drawer 11, a drawer 12, a drawer 2, a drawer 3, a drawer 4, a drawer 5, a drawer 6, a drawer 7, a drawer 8, a drawer 9, a fridge 1, a garbagecan 1, a microwave 1, a sinkbasin 1, a stoveburner 1, a stoveburner 2, a stoveburner 3, a stoveburner 4, and a toaster 1. [SEP] You arrive at drawer 11. The drawer 11 is closed. [SEP] go to drawer 11 [SEP] You open the drawer 11. The drawer 11 is open. In it, you see nothing. [SEP] open drawer 11 [SEP] You close the drawer 11. [SEP] close drawer 11', '-= Welcome to TextWorld, ALFRED! =- You are in the middle of a room. Looking quickly around you, you see a cabinet 1, a cabinet 2, a cabinet 3, a cabinet 4, a cabinet 5, a cabinet 6, a cabinet 7, a cabinet 8, a cabinet 9, a coffeemachine 1, a countertop 1, a countertop 2, a drawer 1, a drawer 10, a drawer 11, a drawer 12, a drawer 13, a drawer 2, a drawer 3, a drawer 4, a drawer 5, a drawer 6, a drawer 7, a drawer 8, a drawer 9, a fridge 1, a garbagecan 1, a microwave 1, a sinkbasin 1, a stoveburner 1, a stoveburner 2, a stoveburner 3, a stoveburner 4, a stoveburner 5, a stoveburner 6, and a toaster 1. [SEP] You close the drawer 12. [SEP] close drawer 12 [SEP] You arrive at drawer 10. On the drawer 10, you see nothing. [SEP] go to drawer 10 [SEP] You arrive at drawer 12. The drawer 12 is closed. [SEP] go to drawer 12']\n",
    "task_desc_strings = ['put a cool plate in cabinet.', 'put two spatula in drawer.', 'put a clean butterknife in drawer.']\n",
    "Actions = ['go to cabinet 12', 'go to countertop 3', 'open drawer 12']\n",
    "\n",
    "\n",
    "commands, _ = generator.command_generation_lama(observation_strings, task_desc_strings)\n",
    "\n",
    "for cmd, baseline in zip(commands, Actions):\n",
    "    print(f\"Generated Command: {cmd} \")\n",
    "    print(f\"Baseline Command: {baseline}\")"
   ]
  }
 ],
 "metadata": {
  "kernelspec": {
   "display_name": "alfworld",
   "language": "python",
   "name": "python3"
  },
  "language_info": {
   "codemirror_mode": {
    "name": "ipython",
    "version": 3
   },
   "file_extension": ".py",
   "mimetype": "text/x-python",
   "name": "python",
   "nbconvert_exporter": "python",
   "pygments_lexer": "ipython3",
   "version": "3.9.22"
  }
 },
 "nbformat": 4,
 "nbformat_minor": 5
}
